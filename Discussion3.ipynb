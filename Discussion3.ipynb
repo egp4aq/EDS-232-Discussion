{
 "cells": [
  {
   "cell_type": "code",
   "execution_count": 1,
   "id": "f346dbb1-6534-4888-838b-69e1ebbee77b",
   "metadata": {
    "tags": []
   },
   "outputs": [],
   "source": [
    "# Import necessary libraries\n",
    "import numpy as np\n",
    "import pandas as pd\n",
    "from sklearn.model_selection import train_test_split\n",
    "from sklearn.linear_model import LogisticRegression\n",
    "from sklearn.metrics import roc_curve, auc, confusion_matrix\n",
    "import matplotlib.pyplot as plt\n",
    "from ipywidgets import interact, FloatSlider\n",
    "import seaborn as sns"
   ]
  },
  {
   "cell_type": "markdown",
   "id": "64426cfa-7d23-499e-949a-e28a98cabb33",
   "metadata": {},
   "source": [
    "### Generate species data"
   ]
  },
  {
   "cell_type": "code",
   "execution_count": 2,
   "id": "22a16790-380c-4a8e-b3f5-a6d3d2b446b4",
   "metadata": {
    "tags": []
   },
   "outputs": [],
   "source": [
    "def generate_species_data(n_samples=1000, presence_ratio=0.3):\n",
    "    # Calculate number of samples for each class\n",
    "    n_present = int(n_samples * presence_ratio)\n",
    "    n_absent = n_samples - n_present\n",
    "    \n",
    "    # Generate features for presence sites \n",
    "    # Green crabs prefer warmer temps (between 64 and 79 degrees Fahrenheit) and  salinity between 26 and 39 ppt\n",
    "    temp_present = np.random.normal(loc=71, scale= 4, size=n_present)\n",
    "    salinity_present = np.random.normal(loc=32, scale=3, size=n_present)\n",
    "    X_present = np.column_stack([temp_present, salinity_present])\n",
    "    y_present = np.ones(n_present)\n",
    "    \n",
    "    # Generate features for absence sites\n",
    "    # Sites with warmer temps or lower salinity\n",
    "    temp_absent = np.random.normal(loc=26, scale=3, size=n_absent)\n",
    "    salinity_absent = np.random.normal(loc=28, scale=2, size=n_absent)\n",
    "    X_absent = np.column_stack([temp_absent, salinity_absent])\n",
    "    y_absent = np.zeros(n_absent)\n",
    "    \n",
    "    # Combine and shuffle the data\n",
    "    X = np.concatenate([X_present, X_absent])\n",
    "    y = np.concatenate([y_present, y_absent])\n",
    "    \n",
    "    # Shuffle the data\n",
    "    shuffle_idx = np.random.permutation(n_samples)\n",
    "    X = X[shuffle_idx]\n",
    "    y = y[shuffle_idx]\n",
    "    \n",
    "    return X, y"
   ]
  },
  {
   "cell_type": "markdown",
   "id": "a632a6bd-3a9a-4a57-ad7a-1102d01667b8",
   "metadata": {},
   "source": [
    "### Create a function that creates a bar plot of species presence distribution"
   ]
  },
  {
   "cell_type": "code",
   "execution_count": 12,
   "id": "b9fdc4a9-7de1-46d6-9c33-4c03c1f15ec3",
   "metadata": {
    "tags": []
   },
   "outputs": [],
   "source": [
    "def plot_class_distribution(y):\n",
    "    plt.figure(figsize = (8,4))\n",
    "    \n",
    "    # Count the values in each category\n",
    "    class_counts = pd.Series(y).value_counts().sort_index()\n",
    "    \n",
    "    # Create the barplot of Absent and Present species\n",
    "    sns.barplot(x = ['Absent','Present'], y = class_counts, color = '#005477')\n",
    "    plt.title('Distribution of Species Presence/Absence')\n",
    "    plt.ylabel('Number of Sampling Sites')\n",
    "    \n",
    "    # Add percent over each bar\n",
    "    total = len(y)\n",
    "    for i, count in enumerate(class_counts):\n",
    "        percentage = count/total * 100\n",
    "        plt.text(i, count, f'{percentage:.1f}%', ha = 'center', va = 'bottom')\n",
    "    plt.show()"
   ]
  },
  {
   "cell_type": "markdown",
   "id": "fb471375-3cca-4110-8948-bae494648392",
   "metadata": {},
   "source": [
    "### Create a function that plots a confusion matrix"
   ]
  },
  {
   "cell_type": "code",
   "execution_count": 5,
   "id": "0f3ce6c2-5c6e-43f7-915f-97d2efd9b734",
   "metadata": {
    "tags": []
   },
   "outputs": [],
   "source": [
    "def plot_confusion_matrix(y_true, y_pred):\n",
    "    \n",
    "    # Create confusion matrix\n",
    "    cm = confusion_matrix(y_true, y_pred)\n",
    "    \n",
    "    # Create confusion matrix plot\n",
    "    plt.figure(figsize = (8,6))\n",
    "    sns.heatmap(cm, fmt = 'd', cmap = 'GnBu',\n",
    "               xticklabels = ['Absent', 'Present'],\n",
    "               yticklabels = ['Absent', 'Present'])\n",
    "    plt.title('Confusion Matrix')\n",
    "    plt.ylabel('True Label')\n",
    "    plt.xlabel('Predicted Label')\n",
    "    plt.show()\n",
    "    \n",
    "    # Calculate and display metrics\n",
    "    TP = cm[1,1]\n",
    "    TN = cm[0,0]\n",
    "    FP = cm[0,1]\n",
    "    FN = cm[1,0]\n",
    "    \n",
    "    print(f\"True positives (correctly predicted presence): {TP}\")\n",
    "    print(f\"True negatives (correctly predicted absence): {TN}\")\n",
    "    print(f\"False positives (incorrectly predicted presence): {FP}\")\n",
    "    print(f\"False negatives (incorrectly predicted absence): {FN}\")\n",
    "    \n",
    "    # Calculate accuracy + various metric\n",
    "    accuracy = (TP + TN)/(TP + TN + FP + FN)\n",
    "    sensitivity = TP / (TP + FN)\n",
    "    specificity = TN / (TN + FP)\n",
    "    \n",
    "    print(f\"\\nModel Performance Metrics:\")\n",
    "    print(f\"Accuracy: {accuracy:.3f}\")\n",
    "    print(f\"Sensitivity (True positive rate): {sensitivity:.3f}\")\n",
    "    print(f\"Specificity (True negative rate): {specificity:.3f}\")"
   ]
  },
  {
   "cell_type": "markdown",
   "id": "9213c978-f336-47b1-893d-18e23d034776",
   "metadata": {},
   "source": [
    "### Create a function that plots an ROC curve"
   ]
  },
  {
   "cell_type": "code",
   "execution_count": 8,
   "id": "9ae1e17b-ed32-49b5-a147-dc3146299722",
   "metadata": {
    "tags": []
   },
   "outputs": [],
   "source": [
    "def plot_roc_curve(y_test, y_pred_prob):\n",
    "    fpr, tpr, _ = roc_curve(y_test, y_pred_prob) # the underscore tells the function to ignore threshold\n",
    "    \n",
    "    # Calculate area under the curve\n",
    "    roc_auc = auc(fpr, tpr)\n",
    "    \n",
    "    plt.figure(figsize = (8,6))\n",
    "    plt.plot(fpr, tpr, color = \"darkorange\", lw = 2, label = f\"ROC Curve (AUC = {roc_auc:.2f})\")\n",
    "    plt.plot([0,1],[0,1],color = \"navy\", lw = 2, linestyle = \"--\",\n",
    "             label = \"Random classifier (AUC = 0.5)\")\n",
    "    plt.xlabel('False positive rate')\n",
    "    plt.ylabel('True positive rate')\n",
    "    plt.title('ROC curve: species presence prediction')\n",
    "    plt.legend()\n",
    "    plt.grid(True)\n",
    "    plt.show()\n",
    "    "
   ]
  },
  {
   "cell_type": "markdown",
   "id": "180d2be4-ca1a-4d05-9a9b-68b2f1750dbd",
   "metadata": {},
   "source": [
    "### Create a function that runs a logistic regression and outputs a distribution plt, confusion matrix, and ROC curve"
   ]
  },
  {
   "cell_type": "code",
   "execution_count": 15,
   "id": "41ca9851-1adb-4116-83a7-480227a4f7cf",
   "metadata": {
    "tags": []
   },
   "outputs": [],
   "source": [
    "def interactive_logistic_regression(presence_ratio = 0.3):\n",
    "    \n",
    "    # Generate data based on class imbalance from user\n",
    "    X,y = generate_species_data(presence_ratio = presence_ratio)\n",
    "    \n",
    "    # Plot class distribution\n",
    "    print(\"\\nClass Distribution\")\n",
    "    plot_class_distribution(y)\n",
    "    \n",
    "    # Split data\n",
    "    X_train, X_test, y_train, y_test = train_test_split(X, y, test_size = 0.3, random_state = 42)\n",
    "    \n",
    "    # Train model\n",
    "    model = LogisticRegression()\n",
    "    model.fit(X_train, y_train)\n",
    "    \n",
    "    # Make prediction\n",
    "    y_pred = model.predict(X_test)\n",
    "    y_pred_prob = model.predict_proba(X_test)[:,1]\n",
    "    \n",
    "    # Plot confusion matrix\n",
    "    print(\"\\nConfusion matrix:\")\n",
    "    plot_confusion_matrix(y_test, y_pred)\n",
    "    \n",
    "    # Plot ROC curve\n",
    "    print(\"\\nROC Curve:\")\n",
    "    plot_roc_curve(y_test, y_pred_prob)"
   ]
  },
  {
   "cell_type": "markdown",
   "id": "9b04e6f5-b8a2-4baf-9641-d6fe65a2ecf3",
   "metadata": {},
   "source": [
    "#### Create interactivity"
   ]
  },
  {
   "cell_type": "code",
   "execution_count": 16,
   "id": "4169b615-f236-4852-9708-dea52ce932f4",
   "metadata": {
    "tags": []
   },
   "outputs": [
    {
     "data": {
      "application/vnd.jupyter.widget-view+json": {
       "model_id": "8ed8ade2a6a34fbd9b1dc08dcc3126d5",
       "version_major": 2,
       "version_minor": 0
      },
      "text/plain": [
       "interactive(children=(FloatSlider(value=0.1, description='% Present', max=0.9, min=0.1), Output()), _dom_class…"
      ]
     },
     "metadata": {},
     "output_type": "display_data"
    }
   ],
   "source": [
    "# Create interactive widget\n",
    "\n",
    "def generate_log_regression():\n",
    "    interact(interactive_logistic_regression,\n",
    "            presence_ratio = FloatSlider(min = 0.1, max = 0.9, step = 0.1,\n",
    "                                         description = \"% Present\")\n",
    "            )\n",
    "generate_log_regression()"
   ]
  },
  {
   "cell_type": "code",
   "execution_count": null,
   "id": "b8418b1b-e8f9-468a-a931-a495e3d4f00d",
   "metadata": {},
   "outputs": [],
   "source": []
  }
 ],
 "metadata": {
  "kernelspec": {
   "display_name": "Anaconda 3 (EDS232)",
   "language": "python",
   "name": "ml-env"
  },
  "language_info": {
   "codemirror_mode": {
    "name": "ipython",
    "version": 3
   },
   "file_extension": ".py",
   "mimetype": "text/x-python",
   "name": "python",
   "nbconvert_exporter": "python",
   "pygments_lexer": "ipython3",
   "version": "3.10.16"
  }
 },
 "nbformat": 4,
 "nbformat_minor": 5
}
