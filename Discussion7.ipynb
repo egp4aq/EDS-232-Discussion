{
 "cells": [
  {
   "cell_type": "code",
   "execution_count": 1,
   "metadata": {},
   "outputs": [],
   "source": [
    "import pandas as pd\n",
    "import numpy as np\n",
    "from sklearn.model_selection import train_test_split\n",
    "from sklearn.feature_extraction.text import TfidfVectorizer, CountVectorizer\n",
    "from sklearn.linear_model import LogisticRegression\n",
    "from sklearn.metrics import classification_report, f1_score, accuracy_score, confusion_matrix\n",
    "from sklearn.metrics import roc_curve, auc, roc_auc_score\n",
    "import re\n",
    "import string\n",
    "import matplotlib.pyplot as plt\n",
    "import seaborn as sns"
   ]
  },
  {
   "cell_type": "code",
   "execution_count": 6,
   "metadata": {},
   "outputs": [],
   "source": [
    "# Read in the data\n",
    "disaster = pd.read_csv('data/disaster.csv - disaster.csv')"
   ]
  },
  {
   "cell_type": "markdown",
   "metadata": {},
   "source": [
    "### Clean text data"
   ]
  },
  {
   "cell_type": "code",
   "execution_count": null,
   "metadata": {},
   "outputs": [],
   "source": [
    "# Cleaning text data\n",
    "def preprocess(text): # define a function \n",
    "    text = text.lower() # make everything lowercase\n",
    "    text=  text.strip() # remove leading and trailing white spaces\n",
    "    text=  re.sub(r'<.*?>','', text) # remove html syntax (in between <>)\n",
    "    text = re.sub(r'[^\\w\\s]','',text)  # remove special characters (but not underscores)\n",
    "    text = re.sub(r'\\[[0-9]*\\]',' ',text) # remove any numbers in brackets (for references/citations)\n",
    "    text = re.sub(r'\\d',' ',text)  # removes digits\n",
    "    text = re.sub(r'\\s+', ' ', text) # collapse multiple spaces into a single space\n",
    "    return text"
   ]
  },
  {
   "cell_type": "code",
   "execution_count": 60,
   "metadata": {},
   "outputs": [],
   "source": [
    "test_string = \"   THE quick[5] brown <**>fox $jumps?? over the lazy _       dog\""
   ]
  },
  {
   "cell_type": "code",
   "execution_count": 61,
   "metadata": {},
   "outputs": [
    {
     "data": {
      "text/plain": [
       "'the quick5 brown fox jumps over the lazy _       dog'"
      ]
     },
     "execution_count": 61,
     "metadata": {},
     "output_type": "execute_result"
    }
   ],
   "source": [
    "preprocess(test_string)"
   ]
  },
  {
   "cell_type": "code",
   "execution_count": 62,
   "metadata": {},
   "outputs": [
    {
     "data": {
      "text/html": [
       "<div>\n",
       "<style scoped>\n",
       "    .dataframe tbody tr th:only-of-type {\n",
       "        vertical-align: middle;\n",
       "    }\n",
       "\n",
       "    .dataframe tbody tr th {\n",
       "        vertical-align: top;\n",
       "    }\n",
       "\n",
       "    .dataframe thead th {\n",
       "        text-align: right;\n",
       "    }\n",
       "</style>\n",
       "<table border=\"1\" class=\"dataframe\">\n",
       "  <thead>\n",
       "    <tr style=\"text-align: right;\">\n",
       "      <th></th>\n",
       "      <th>id</th>\n",
       "      <th>keyword</th>\n",
       "      <th>location</th>\n",
       "      <th>text</th>\n",
       "      <th>target</th>\n",
       "      <th>clean_text</th>\n",
       "    </tr>\n",
       "  </thead>\n",
       "  <tbody>\n",
       "    <tr>\n",
       "      <th>0</th>\n",
       "      <td>1</td>\n",
       "      <td>NaN</td>\n",
       "      <td>NaN</td>\n",
       "      <td>Our Deeds are the Reason of this #earthquake M...</td>\n",
       "      <td>1</td>\n",
       "      <td>our deeds are the reason of this earthquake ma...</td>\n",
       "    </tr>\n",
       "    <tr>\n",
       "      <th>1</th>\n",
       "      <td>4</td>\n",
       "      <td>NaN</td>\n",
       "      <td>NaN</td>\n",
       "      <td>Forest fire near La Ronge Sask. Canada</td>\n",
       "      <td>1</td>\n",
       "      <td>forest fire near la ronge sask canada</td>\n",
       "    </tr>\n",
       "    <tr>\n",
       "      <th>2</th>\n",
       "      <td>5</td>\n",
       "      <td>NaN</td>\n",
       "      <td>NaN</td>\n",
       "      <td>All residents asked to 'shelter in place' are ...</td>\n",
       "      <td>1</td>\n",
       "      <td>all residents asked to shelter in place are be...</td>\n",
       "    </tr>\n",
       "    <tr>\n",
       "      <th>3</th>\n",
       "      <td>6</td>\n",
       "      <td>NaN</td>\n",
       "      <td>NaN</td>\n",
       "      <td>13,000 people receive #wildfires evacuation or...</td>\n",
       "      <td>1</td>\n",
       "      <td>13000 people receive wildfires evacuation orde...</td>\n",
       "    </tr>\n",
       "    <tr>\n",
       "      <th>4</th>\n",
       "      <td>7</td>\n",
       "      <td>NaN</td>\n",
       "      <td>NaN</td>\n",
       "      <td>Just got sent this photo from Ruby #Alaska as ...</td>\n",
       "      <td>1</td>\n",
       "      <td>just got sent this photo from ruby alaska as s...</td>\n",
       "    </tr>\n",
       "  </tbody>\n",
       "</table>\n",
       "</div>"
      ],
      "text/plain": [
       "   id keyword location                                               text  \\\n",
       "0   1     NaN      NaN  Our Deeds are the Reason of this #earthquake M...   \n",
       "1   4     NaN      NaN             Forest fire near La Ronge Sask. Canada   \n",
       "2   5     NaN      NaN  All residents asked to 'shelter in place' are ...   \n",
       "3   6     NaN      NaN  13,000 people receive #wildfires evacuation or...   \n",
       "4   7     NaN      NaN  Just got sent this photo from Ruby #Alaska as ...   \n",
       "\n",
       "   target                                         clean_text  \n",
       "0       1  our deeds are the reason of this earthquake ma...  \n",
       "1       1              forest fire near la ronge sask canada  \n",
       "2       1  all residents asked to shelter in place are be...  \n",
       "3       1  13000 people receive wildfires evacuation orde...  \n",
       "4       1  just got sent this photo from ruby alaska as s...  "
      ]
     },
     "execution_count": 62,
     "metadata": {},
     "output_type": "execute_result"
    }
   ],
   "source": [
    "disaster['clean_text'] = disaster['text'].apply(preprocess)\n",
    "disaster.head()"
   ]
  },
  {
   "cell_type": "markdown",
   "metadata": {},
   "source": [
    "### What about stop words?"
   ]
  },
  {
   "cell_type": "code",
   "execution_count": 63,
   "metadata": {},
   "outputs": [
    {
     "name": "stdout",
     "output_type": "stream",
     "text": [
      "Remaining words\n",
      "['5th' 'awesome' 'capstone' 'crush' 'march' 'presentation' 'team']\n"
     ]
    }
   ],
   "source": [
    "# Proof that Tfidf vectorizer excludes stopwords\n",
    "stop_words_ex = ['On March 5th, I will crush my capstone presentation with my awesome team!']\n",
    "\n",
    "vectorizer_english = TfidfVectorizer(stop_words = \"english\")\n",
    "vectorizer_english.fit_transform(stop_words_ex)\n",
    "\n",
    "print(\"Remaining words\")\n",
    "print(vectorizer_english.get_feature_names_out())"
   ]
  },
  {
   "cell_type": "markdown",
   "metadata": {},
   "source": [
    "### Logistic Regression"
   ]
  },
  {
   "cell_type": "code",
   "execution_count": 64,
   "metadata": {},
   "outputs": [],
   "source": [
    "# Split into test and train data\n",
    "X_train, X_test, y_train, y_test = train_test_split(disaster['clean_text'], disaster['target'], test_size=0.3, random_state=42)"
   ]
  },
  {
   "cell_type": "code",
   "execution_count": 68,
   "metadata": {},
   "outputs": [],
   "source": [
    "# Vectorize words\n",
    "tfidf_vectorizer = TfidfVectorizer(stop_words = \"english\")\n",
    "X_train_tfidf = tfidf_vectorizer.fit_transform(X_train)\n",
    "X_test_tfidf = tfidf_vectorizer.transform(X_test)"
   ]
  },
  {
   "cell_type": "code",
   "execution_count": 69,
   "metadata": {},
   "outputs": [],
   "source": [
    "# Initialize a logistic regression model and fit to vectorized training data\n",
    "lr_model = LogisticRegression(random_state=42)\n",
    "lr_model.fit(X_train_tfidf, y_train)\n",
    "y_pred = lr_model.predict(X_test_tfidf)"
   ]
  },
  {
   "cell_type": "markdown",
   "metadata": {},
   "source": [
    "### Logistic Regression Results"
   ]
  },
  {
   "cell_type": "code",
   "execution_count": 71,
   "metadata": {},
   "outputs": [
    {
     "name": "stdout",
     "output_type": "stream",
     "text": [
      "Accuracy: 0.8047285464098074\n"
     ]
    },
    {
     "data": {
      "image/png": "[encoded data removed]",
      "text/plain": [
       "<Figure size 800x600 with 2 Axes>"
      ]
     },
     "metadata": {},
     "output_type": "display_data"
    }
   ],
   "source": [
    "# Calculate LR accuracy\n",
    "accuracy = accuracy_score(y_test, y_pred)\n",
    "print(f\"Accuracy: {accuracy}\")\n",
    "\n",
    "# Create confusion matrix for correctly/incorrectly predicting outcome variable\n",
    "cm = confusion_matrix(y_test, y_pred)\n",
    "plt.figure(figsize=(8,6))\n",
    "sns.heatmap(cm, annot=True, fmt='d',cmap=\"GnBu\",\n",
    "            xticklabels=['No disaster','Disaster'],\n",
    "            yticklabels=['No disaster','Disaster'])\n",
    "plt.title('Logistic Regression Model Performance')\n",
    "plt.ylabel('True Label')\n",
    "plt.xlabel('Predicted Label')\n",
    "plt.show()"
   ]
  },
  {
   "cell_type": "markdown",
   "metadata": {},
   "source": [
    "### Test model with new data"
   ]
  },
  {
   "cell_type": "code",
   "execution_count": 72,
   "metadata": {},
   "outputs": [
    {
     "name": "stdout",
     "output_type": "stream",
     "text": [
      "Text: BREAKING: MAssive earthquake hits the coast\n",
      "Prediction: Real Disaster\n",
      "\n",
      "Text: I love watching disaster movies on Netflix\n",
      "Prediction: Not a Real Disaster\n",
      "\n",
      "Text: Thousands evacuated as hurricane appraoches\n",
      "Prediction: Real Disaster\n",
      "\n",
      "Text: Theeeesssss is a deeeesaster\n",
      "Prediction: Not a Real Disaster\n",
      "\n",
      "Text: It's windy\n",
      "Prediction: Not a Real Disaster\n",
      "\n",
      "Text: The Palisades fire has damaged over 7,000 structures\n",
      "Prediction: Not a Real Disaster\n",
      "\n",
      "Text: I dropped my pencil, and I am too lazy to pick it up myself\n",
      "Prediction: Not a Real Disaster\n",
      "\n",
      "Text: Oh no!\n",
      "Prediction: Not a Real Disaster\n",
      "\n",
      "Text: What about the MEG?!?!?!\n",
      "Prediction: Not a Real Disaster\n",
      "\n"
     ]
    }
   ],
   "source": [
    "# Preprocess new phrases\n",
    "new_text = [\n",
    "    \"BREAKING: MAssive earthquake hits the coast\",\n",
    "    \"I love watching disaster movies on Netflix\",\n",
    "    \"Thousands evacuated as hurricane appraoches\",\n",
    "    \"Theeeesssss is a deeeesaster\",\n",
    "    \"It's windy\",\n",
    "    \"The Palisades fire has damaged over 7,000 structures\",\n",
    "    \"I dropped my pencil, and I am too lazy to pick it up myself\",\n",
    "    \"Oh no!\",\n",
    "    \"What about the MEG?!?!?!\"\n",
    "]\n",
    "\n",
    "# Preprocess new phrases\n",
    "cleaned_new_text = [preprocess(text) for text in new_text]\n",
    "\n",
    "# Transform using TF-IDF vectorizer\n",
    "new_features = tfidf_vectorizer.transform(cleaned_new_text)\n",
    "\n",
    "# Make predictions\n",
    "predictions = lr_model.predict(new_features)\n",
    "\n",
    "# Check outcomes\n",
    "for text, pred in zip(new_text, predictions):\n",
    "    print(f\"Text: {text}\")\n",
    "    print(f\"Prediction: {'Real Disaster' if pred == 1 else 'Not a Real Disaster'}\\n\")"
   ]
  }
 ],
 "metadata": {
  "kernelspec": {
   "display_name": "ml-env",
   "language": "python",
   "name": "python3"
  },
  "language_info": {
   "codemirror_mode": {
    "name": "ipython",
    "version": 3
   },
   "file_extension": ".py",
   "mimetype": "text/x-python",
   "name": "python",
   "nbconvert_exporter": "python",
   "pygments_lexer": "ipython3",
   "version": "3.10.16"
  }
 },
 "nbformat": 4,
 "nbformat_minor": 2
}
